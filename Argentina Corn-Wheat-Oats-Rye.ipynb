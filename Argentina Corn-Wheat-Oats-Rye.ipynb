{
 "cells": [
  {
   "cell_type": "markdown",
   "id": "6ac3badf",
   "metadata": {},
   "source": [
    "# Corn, wheat, oats, and rye yield in Argentina (kg/ha)\n",
    "##    Period: 1923-2020"
   ]
  },
  {
   "cell_type": "code",
   "execution_count": null,
   "id": "14918663",
   "metadata": {},
   "outputs": [],
   "source": [
    "import pandas as pd\n",
    "import numpy as np\n",
    "import matplotlib.pyplot as plt\n",
    "import ipywidgets as wg\n",
    "from ipywidgets import interact, interactive, IntSlider\n",
    "pd.options.display.float_format = \"{:.2f}\".format        # floating point with 2 decimal places\n",
    "import warnings\n",
    "warnings.filterwarnings('ignore')\n",
    "\n",
    "lst_crops = ['maiz', 'trigo', 'avena' , 'centeno']\n",
    "lst_col = ['Corn', 'Wheat', 'Oats' , 'Rye']\n",
    "colors = ['#FF8000', '#008080', '#835B0A', '#8d00ff']"
   ]
  },
  {
   "cell_type": "markdown",
   "id": "42b17db4",
   "metadata": {},
   "source": [
    "# clean_df\n",
    "This function is responsible for data analysis and cleaning tasks."
   ]
  },
  {
   "cell_type": "code",
   "execution_count": null,
   "id": "017ffdc6",
   "metadata": {},
   "outputs": [],
   "source": [
    "def clean_df(crops) :\n",
    "    lst_df= []\n",
    "    for crop in crops:  \n",
    "        if crop == 'avena' or crop == 'centeno' or crop =='maiz':\n",
    "            if crop =='maiz' :\n",
    "                df = pd.read_csv('assets/' + crop + \"-serie-1923-2019\" + \".csv\", \n",
    "                             encoding = \"latin-1\", usecols=[1,10])\n",
    "            else :\n",
    "                df = pd.read_csv('assets/' + crop + \"-serie-1923-2020\" + \".csv\", \n",
    "                                 encoding = \"latin-1\", usecols=[1,10])\n",
    "            df.rename(columns={'anio': 'year', 'rendimiento_kgxha': crop}, inplace=True)\n",
    "        elif crop == 'trigo':\n",
    "            df = pd.read_csv('assets/' + crop + \"-serie-1923-2020-anual\" + \".csv\",\n",
    "                             encoding = \"latin-1\", usecols=[0,4])\n",
    "            df.rename(columns={'indice_tiempo': 'year', 'rendimiento_trigo_kgxha': crop}, \n",
    "                      inplace=True)\n",
    "           \n",
    "    # pd.options.display.float_format = \"{:.2f}\".format  : floating point with 2 decimal places\n",
    "    # WARNING: .applymap('{:,.2f}'.format)               : do not use converts to string\n",
    "    # Group by year, average calculation\n",
    "        df1 = df.groupby('year').agg({crop:np.nanmean})\n",
    "        lst_df.append(df1)\n",
    "          \n",
    "    # Concat lists.\n",
    "    df_crops = pd.concat(lst_df, axis=1)\n",
    "\n",
    "    # The 2020 Corn value is missing, so the 2019 value is repeated.\n",
    "    df_crops = df_crops.fillna(method='ffill')\n",
    "    \n",
    "    return df_crops"
   ]
  },
  {
   "cell_type": "markdown",
   "id": "e9e6b661",
   "metadata": {},
   "source": [
    "# figure_axis\n",
    "This function is responsible for plotting the figure, creating the title, legend, axis labels, and horizontal lines."
   ]
  },
  {
   "cell_type": "code",
   "execution_count": null,
   "id": "33080078",
   "metadata": {},
   "outputs": [],
   "source": [
    "def figure_axis():\n",
    "    fig, ax = plt.subplots(1,1, figsize = (11,6), facecolor='#4D88FF')     \n",
    "    \n",
    "    # Range axis\n",
    "    plt.gca().axis([1920,2021,-400,7500])\n",
    "    \n",
    "    # disable the entire frame\n",
    "    plt.gca().spines[['top','bottom','left','right']].set_visible(False)\n",
    "\n",
    "    # Title\n",
    "    plt.title('Argentine Republic\\n Period 1923-2020',color = 'white', \n",
    "              fontsize = 12, fontstyle= 'normal', fontweight  = 'heavy')\n",
    "    \n",
    "    # Legend center text in x=1933  y=4000\n",
    "    plt.text(1933, 4000, \"Average yield per year\\nkg/ha: kilogram per hectare\", \n",
    "             ha= 'center', va='center', fontsize=8, fontweight  = 'bold', \n",
    "             color = 'yellow', backgroundcolor = '#4D88FF')  \n",
    "    \n",
    "    # Labels both axis\n",
    "    plt.xlabel('Year', fontweight = 'bold', color = '#98afb4')\n",
    "    plt.ylabel('Average yield kg/ha', fontweight = 'bold', color = '#98afb4')\n",
    "        \n",
    "    # set color \n",
    "    ax.set_facecolor('white')\n",
    "    # tick params both axis\n",
    "    ax.tick_params(color='#98afb4', labelcolor='white', labelsize=9, bottom=True)\n",
    "    \n",
    "    # Ticks axis x : tick year for each 10 years\n",
    "    year= np.arange(1923,2021,10)\n",
    "    ax.set_xticks(ticks = year, labels = [str(x) for x in year])\n",
    "    \n",
    "    # Plot horizontal lines\n",
    "    lines = [0,1000,3000,5000,7000]\n",
    "    for i in lines:\n",
    "        plt.axhline(y=i, xmin = 0.01, xmax = 0.98, color='#4D88FF', linestyle=\":\")\n",
    "\n",
    "    return fig,ax"
   ]
  },
  {
   "cell_type": "markdown",
   "id": "6ccd1e66",
   "metadata": {},
   "source": [
    "# plot_performance\n",
    "This function creates four line plots, one for each crop."
   ]
  },
  {
   "cell_type": "code",
   "execution_count": null,
   "id": "11380ca4",
   "metadata": {},
   "outputs": [],
   "source": [
    "def plot_performance(crops, lst_col, pal_colors):\n",
    "    fig,ax = figure_axis()\n",
    "    \n",
    "    # line plot for the 4 crops\n",
    "    for n in range(len(crops)):\n",
    "        df = clean_df(crops)[crops[n]]\n",
    "        ax.plot(df, '-', color = pal_colors[n])\n",
    "        \n",
    "        #  df.index[-1]+1 = last year    ,     df.iloc[-1]= value of each crop axis y\n",
    "        x , y = df.index[-1]+1, df.iloc[-1]\n",
    "        ax.text(x, y, lst_col[n], color = pal_colors[n], fontweight  = 'bold')"
   ]
  },
  {
   "cell_type": "markdown",
   "id": "4a073ee7",
   "metadata": {},
   "source": [
    "# change_year\n",
    "This function displays the yield in kilograms per hectare (kg/ha) for each crop according to the selected year. For years less than or equal to 1972, the text is displayed to the right of the vertical bar. For years greater than 1972, the text is displayed to the left.  The selected year is highlighted at the bottom of the bar."
   ]
  },
  {
   "cell_type": "code",
   "execution_count": null,
   "id": "655144ec",
   "metadata": {},
   "outputs": [],
   "source": [
    "def change_year(year_input):\n",
    "        \n",
    "    df = clean_df(lst_crops)\n",
    "    plot_performance(lst_crops, lst_col, colors)\n",
    "      \n",
    "    # Update the position of the vertical line and text based on the year.\n",
    "    plt.axvline(year_input, ymin = 0.05, ymax = 0.98, color = \"C0\")\n",
    "    plt.text(year_input, 300 , year_input, fontsize=8, ha='center',\n",
    "             fontweight  = 'bold', color = \"white\", backgroundcolor = \"C0\")        \n",
    "    \n",
    "    # The crop text and its respective yield (2 decimal places).\n",
    "    s = ''\n",
    "    for n in range(len(lst_crops)):\n",
    "        s = s + lst_col[n] + ' : '+  \"{:.2f}\".format(df.loc[year_input][n])+ '\\n'\n",
    "    \n",
    "    # The default year is 1972.\n",
    "    if year_input <= 1972:\n",
    "        plt.text(year_input, 6500 , s, fontsize=6, ha='left', \n",
    "                 fontweight  = 'bold', color = '#6d848a', ma='left')  \n",
    "    else:\n",
    "        plt.text(year_input, 6500 , s, fontsize=6, ha='right', \n",
    "                 fontweight  = 'bold', color = '#6d848a', ma='left')  \n",
    "    \n",
    "    plt.show()"
   ]
  },
  {
   "cell_type": "markdown",
   "id": "148ae980",
   "metadata": {},
   "source": [
    "**First, the widget is defined. Then, the change_function() function is called.**"
   ]
  },
  {
   "cell_type": "code",
   "execution_count": null,
   "id": "351b442d",
   "metadata": {},
   "outputs": [],
   "source": [
    "x_entrada = wg.IntSlider(min=1923, max=2020, step=1, value = 1972, description=' ', \n",
    "                        orientation='horizontal', continuous_update=False, \n",
    "                        layout=wg.Layout(width='99%'))\n",
    "\n",
    "widget=wg.interact(change_year, year_input = x_entrada)"
   ]
  }
 ],
 "metadata": {
  "kernelspec": {
   "display_name": "Python 3 (ipykernel)",
   "language": "python",
   "name": "python3"
  },
  "language_info": {
   "codemirror_mode": {
    "name": "ipython",
    "version": 3
   },
   "file_extension": ".py",
   "mimetype": "text/x-python",
   "name": "python",
   "nbconvert_exporter": "python",
   "pygments_lexer": "ipython3",
   "version": "3.9.16"
  }
 },
 "nbformat": 4,
 "nbformat_minor": 5
}
